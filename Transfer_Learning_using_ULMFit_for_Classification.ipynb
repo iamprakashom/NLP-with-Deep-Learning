{
  "nbformat": 4,
  "nbformat_minor": 0,
  "metadata": {
    "colab": {
      "name": "Transfer Learning using ULMFit for Classification.ipynb",
      "version": "0.3.2",
      "provenance": []
    },
    "kernelspec": {
      "name": "python3",
      "display_name": "Python 3"
    },
    "accelerator": "GPU"
  },
  "cells": [
    {
      "cell_type": "code",
      "metadata": {
        "id": "Dn7GzTlgUMGb",
        "colab_type": "code",
        "outputId": "de0638a3-d8e2-4555-f5e5-eb1022edfe60",
        "colab": {
          "base_uri": "https://localhost:8080/",
          "height": 884
        }
      },
      "source": [
        "#Install required library\n",
        "!pip install torch_nightly -f https://download.pytorch.org/whl/nightly/cu92/torch_nightly.html\n",
        "!pip install fastai"
      ],
      "execution_count": 0,
      "outputs": [
        {
          "output_type": "stream",
          "text": [
            "Looking in links: https://download.pytorch.org/whl/nightly/cu92/torch_nightly.html\n",
            "Collecting torch_nightly\n",
            "\u001b[?25l  Downloading https://download.pytorch.org/whl/nightly/cu92/torch_nightly-1.0.0.dev20181206-cp36-cp36m-linux_x86_64.whl (576.2MB)\n",
            "\u001b[K     |████████████████████████████████| 576.2MB 29kB/s \n",
            "\u001b[?25hInstalling collected packages: torch-nightly\n",
            "Successfully installed torch-nightly-1.0.0.dev20181206\n",
            "Requirement already satisfied: fastai in /usr/local/lib/python3.6/dist-packages (1.0.52)\n",
            "Requirement already satisfied: matplotlib in /usr/local/lib/python3.6/dist-packages (from fastai) (3.0.3)\n",
            "Requirement already satisfied: numexpr in /usr/local/lib/python3.6/dist-packages (from fastai) (2.6.9)\n",
            "Requirement already satisfied: scipy in /usr/local/lib/python3.6/dist-packages (from fastai) (1.3.0)\n",
            "Requirement already satisfied: numpy>=1.15 in /usr/local/lib/python3.6/dist-packages (from fastai) (1.16.3)\n",
            "Requirement already satisfied: packaging in /usr/local/lib/python3.6/dist-packages (from fastai) (19.0)\n",
            "Requirement already satisfied: Pillow in /usr/local/lib/python3.6/dist-packages (from fastai) (4.3.0)\n",
            "Requirement already satisfied: torch>=1.0.0 in /usr/local/lib/python3.6/dist-packages (from fastai) (1.1.0)\n",
            "Requirement already satisfied: fastprogress>=0.1.19 in /usr/local/lib/python3.6/dist-packages (from fastai) (0.1.21)\n",
            "Requirement already satisfied: bottleneck in /usr/local/lib/python3.6/dist-packages (from fastai) (1.2.1)\n",
            "Requirement already satisfied: pyyaml in /usr/local/lib/python3.6/dist-packages (from fastai) (3.13)\n",
            "Requirement already satisfied: typing in /usr/local/lib/python3.6/dist-packages (from fastai) (3.6.6)\n",
            "Requirement already satisfied: dataclasses; python_version < \"3.7\" in /usr/local/lib/python3.6/dist-packages (from fastai) (0.6)\n",
            "Requirement already satisfied: pandas in /usr/local/lib/python3.6/dist-packages (from fastai) (0.24.2)\n",
            "Requirement already satisfied: requests in /usr/local/lib/python3.6/dist-packages (from fastai) (2.21.0)\n",
            "Requirement already satisfied: spacy>=2.0.18 in /usr/local/lib/python3.6/dist-packages (from fastai) (2.0.18)\n",
            "Requirement already satisfied: beautifulsoup4 in /usr/local/lib/python3.6/dist-packages (from fastai) (4.6.3)\n",
            "Requirement already satisfied: torchvision in /usr/local/lib/python3.6/dist-packages (from fastai) (0.2.2.post3)\n",
            "Requirement already satisfied: nvidia-ml-py3 in /usr/local/lib/python3.6/dist-packages (from fastai) (7.352.0)\n",
            "Requirement already satisfied: cycler>=0.10 in /usr/local/lib/python3.6/dist-packages (from matplotlib->fastai) (0.10.0)\n",
            "Requirement already satisfied: pyparsing!=2.0.4,!=2.1.2,!=2.1.6,>=2.0.1 in /usr/local/lib/python3.6/dist-packages (from matplotlib->fastai) (2.4.0)\n",
            "Requirement already satisfied: python-dateutil>=2.1 in /usr/local/lib/python3.6/dist-packages (from matplotlib->fastai) (2.5.3)\n",
            "Requirement already satisfied: kiwisolver>=1.0.1 in /usr/local/lib/python3.6/dist-packages (from matplotlib->fastai) (1.1.0)\n",
            "Requirement already satisfied: six in /usr/local/lib/python3.6/dist-packages (from packaging->fastai) (1.12.0)\n",
            "Requirement already satisfied: olefile in /usr/local/lib/python3.6/dist-packages (from Pillow->fastai) (0.46)\n",
            "Requirement already satisfied: pytz>=2011k in /usr/local/lib/python3.6/dist-packages (from pandas->fastai) (2018.9)\n",
            "Requirement already satisfied: chardet<3.1.0,>=3.0.2 in /usr/local/lib/python3.6/dist-packages (from requests->fastai) (3.0.4)\n",
            "Requirement already satisfied: idna<2.9,>=2.5 in /usr/local/lib/python3.6/dist-packages (from requests->fastai) (2.8)\n",
            "Requirement already satisfied: certifi>=2017.4.17 in /usr/local/lib/python3.6/dist-packages (from requests->fastai) (2019.3.9)\n",
            "Requirement already satisfied: urllib3<1.25,>=1.21.1 in /usr/local/lib/python3.6/dist-packages (from requests->fastai) (1.24.3)\n",
            "Requirement already satisfied: ujson>=1.35 in /usr/local/lib/python3.6/dist-packages (from spacy>=2.0.18->fastai) (1.35)\n",
            "Requirement already satisfied: murmurhash<1.1.0,>=0.28.0 in /usr/local/lib/python3.6/dist-packages (from spacy>=2.0.18->fastai) (1.0.2)\n",
            "Requirement already satisfied: plac<1.0.0,>=0.9.6 in /usr/local/lib/python3.6/dist-packages (from spacy>=2.0.18->fastai) (0.9.6)\n",
            "Requirement already satisfied: thinc<6.13.0,>=6.12.1 in /usr/local/lib/python3.6/dist-packages (from spacy>=2.0.18->fastai) (6.12.1)\n",
            "Requirement already satisfied: preshed<2.1.0,>=2.0.1 in /usr/local/lib/python3.6/dist-packages (from spacy>=2.0.18->fastai) (2.0.1)\n",
            "Requirement already satisfied: cymem<2.1.0,>=2.0.2 in /usr/local/lib/python3.6/dist-packages (from spacy>=2.0.18->fastai) (2.0.2)\n",
            "Requirement already satisfied: regex==2018.01.10 in /usr/local/lib/python3.6/dist-packages (from spacy>=2.0.18->fastai) (2018.1.10)\n",
            "Requirement already satisfied: dill<0.3,>=0.2 in /usr/local/lib/python3.6/dist-packages (from spacy>=2.0.18->fastai) (0.2.9)\n",
            "Requirement already satisfied: setuptools in /usr/local/lib/python3.6/dist-packages (from kiwisolver>=1.0.1->matplotlib->fastai) (41.0.1)\n",
            "Requirement already satisfied: cytoolz<0.10,>=0.9.0 in /usr/local/lib/python3.6/dist-packages (from thinc<6.13.0,>=6.12.1->spacy>=2.0.18->fastai) (0.9.0.1)\n",
            "Requirement already satisfied: msgpack<0.6.0,>=0.5.6 in /usr/local/lib/python3.6/dist-packages (from thinc<6.13.0,>=6.12.1->spacy>=2.0.18->fastai) (0.5.6)\n",
            "Requirement already satisfied: tqdm<5.0.0,>=4.10.0 in /usr/local/lib/python3.6/dist-packages (from thinc<6.13.0,>=6.12.1->spacy>=2.0.18->fastai) (4.28.1)\n",
            "Requirement already satisfied: wrapt<1.11.0,>=1.10.0 in /usr/local/lib/python3.6/dist-packages (from thinc<6.13.0,>=6.12.1->spacy>=2.0.18->fastai) (1.10.11)\n",
            "Requirement already satisfied: msgpack-numpy<0.4.4 in /usr/local/lib/python3.6/dist-packages (from thinc<6.13.0,>=6.12.1->spacy>=2.0.18->fastai) (0.4.3.2)\n",
            "Requirement already satisfied: toolz>=0.8.0 in /usr/local/lib/python3.6/dist-packages (from cytoolz<0.10,>=0.9.0->thinc<6.13.0,>=6.12.1->spacy>=2.0.18->fastai) (0.9.0)\n"
          ],
          "name": "stdout"
        }
      ]
    },
    {
      "cell_type": "code",
      "metadata": {
        "id": "vYxmchgWUWOH",
        "colab_type": "code",
        "colab": {}
      },
      "source": [
        "# import libraries\n",
        "import fastai\n",
        "from fastai import *\n",
        "from fastai.text import * \n",
        "import pandas as pd\n",
        "import numpy as np\n",
        "from functools import partial\n",
        "import io\n",
        "import os"
      ],
      "execution_count": 0,
      "outputs": []
    },
    {
      "cell_type": "code",
      "metadata": {
        "id": "Uh7ccq89Uny3",
        "colab_type": "code",
        "colab": {}
      },
      "source": [
        "# Import 20 newsgroup dataset\n",
        "from sklearn.datasets import fetch_20newsgroups"
      ],
      "execution_count": 0,
      "outputs": []
    },
    {
      "cell_type": "code",
      "metadata": {
        "id": "54dTk02RU4q-",
        "colab_type": "code",
        "colab": {}
      },
      "source": [
        "dataset = fetch_20newsgroups(shuffle=True, random_state=1, remove=('header', 'footers', 'quotes'))"
      ],
      "execution_count": 0,
      "outputs": []
    },
    {
      "cell_type": "code",
      "metadata": {
        "id": "MY_TBwe7zxo-",
        "colab_type": "code",
        "colab": {}
      },
      "source": [
        "dataset.target_names"
      ],
      "execution_count": 0,
      "outputs": []
    },
    {
      "cell_type": "code",
      "metadata": {
        "id": "Pj302hr3VDG-",
        "colab_type": "code",
        "outputId": "583bdf9e-9d19-4d04-9c0b-9594996eadd7",
        "colab": {
          "base_uri": "https://localhost:8080/",
          "height": 136
        }
      },
      "source": [
        "print(dataset.data[0])\n",
        "\n",
        "print(\"\\n\")\n",
        "print(dataset.target[0])"
      ],
      "execution_count": 0,
      "outputs": [
        {
          "output_type": "stream",
          "text": [
            "From: ab4z@Virginia.EDU (\"Andi Beyer\")\n",
            "Subject: Re: Israeli Terrorism\n",
            "Organization: University of Virginia\n",
            "Lines: 15\n",
            "\n",
            "\n",
            "17\n"
          ],
          "name": "stdout"
        }
      ]
    },
    {
      "cell_type": "code",
      "metadata": {
        "id": "0d-cCKqzVf1S",
        "colab_type": "code",
        "colab": {}
      },
      "source": [
        "#Let’s create a dataframe consisting of the text documents and their corresponding labels (newsgroup names).\n",
        "df = pd.DataFrame({'label': dataset.target, 'text': dataset.data})"
      ],
      "execution_count": 0,
      "outputs": []
    },
    {
      "cell_type": "code",
      "metadata": {
        "id": "KvWdRZ7mVwju",
        "colab_type": "code",
        "outputId": "f1ff57ec-df6c-433e-b3f1-6a7eb224940c",
        "colab": {
          "base_uri": "https://localhost:8080/",
          "height": 204
        }
      },
      "source": [
        "df.head()"
      ],
      "execution_count": 0,
      "outputs": [
        {
          "output_type": "execute_result",
          "data": {
            "text/html": [
              "<div>\n",
              "<style scoped>\n",
              "    .dataframe tbody tr th:only-of-type {\n",
              "        vertical-align: middle;\n",
              "    }\n",
              "\n",
              "    .dataframe tbody tr th {\n",
              "        vertical-align: top;\n",
              "    }\n",
              "\n",
              "    .dataframe thead th {\n",
              "        text-align: right;\n",
              "    }\n",
              "</style>\n",
              "<table border=\"1\" class=\"dataframe\">\n",
              "  <thead>\n",
              "    <tr style=\"text-align: right;\">\n",
              "      <th></th>\n",
              "      <th>label</th>\n",
              "      <th>text</th>\n",
              "    </tr>\n",
              "  </thead>\n",
              "  <tbody>\n",
              "    <tr>\n",
              "      <th>0</th>\n",
              "      <td>17</td>\n",
              "      <td>From: ab4z@Virginia.EDU (\"Andi Beyer\")\\nSubjec...</td>\n",
              "    </tr>\n",
              "    <tr>\n",
              "      <th>1</th>\n",
              "      <td>0</td>\n",
              "      <td>From: timmbake@mcl.ucsb.edu (Bake Timmons)\\nSu...</td>\n",
              "    </tr>\n",
              "    <tr>\n",
              "      <th>2</th>\n",
              "      <td>17</td>\n",
              "      <td>From: bc744@cleveland.Freenet.Edu (Mark Ira Ka...</td>\n",
              "    </tr>\n",
              "    <tr>\n",
              "      <th>3</th>\n",
              "      <td>11</td>\n",
              "      <td>From: ray@ole.cdac.com (Ray Berry)\\nSubject: C...</td>\n",
              "    </tr>\n",
              "    <tr>\n",
              "      <th>4</th>\n",
              "      <td>10</td>\n",
              "      <td>From: kkeller@mail.sas.upenn.edu (Keith Keller...</td>\n",
              "    </tr>\n",
              "  </tbody>\n",
              "</table>\n",
              "</div>"
            ],
            "text/plain": [
              "   label                                               text\n",
              "0     17  From: ab4z@Virginia.EDU (\"Andi Beyer\")\\nSubjec...\n",
              "1      0  From: timmbake@mcl.ucsb.edu (Bake Timmons)\\nSu...\n",
              "2     17  From: bc744@cleveland.Freenet.Edu (Mark Ira Ka...\n",
              "3     11  From: ray@ole.cdac.com (Ray Berry)\\nSubject: C...\n",
              "4     10  From: kkeller@mail.sas.upenn.edu (Keith Keller..."
            ]
          },
          "metadata": {
            "tags": []
          },
          "execution_count": 80
        }
      ]
    },
    {
      "cell_type": "code",
      "metadata": {
        "id": "9Rf5uukuVyLW",
        "colab_type": "code",
        "outputId": "087ed550-d628-4f82-a07b-a9c4af300c5f",
        "colab": {
          "base_uri": "https://localhost:8080/",
          "height": 34
        }
      },
      "source": [
        "df.shape"
      ],
      "execution_count": 0,
      "outputs": [
        {
          "output_type": "execute_result",
          "data": {
            "text/plain": [
              "(11314, 2)"
            ]
          },
          "metadata": {
            "tags": []
          },
          "execution_count": 81
        }
      ]
    },
    {
      "cell_type": "markdown",
      "metadata": {
        "id": "H3jsc9RdWX4H",
        "colab_type": "text"
      },
      "source": [
        "We’ll convert this into a binary classification problem by selecting only 2 out of the 20 labels present in the dataset. We will select labels 1 and 10 which correspond to **‘comp.graphics**’ and ‘**rec.sport.hockey**’, respectively."
      ]
    },
    {
      "cell_type": "code",
      "metadata": {
        "id": "Jgm_6lsuV2Bu",
        "colab_type": "code",
        "colab": {}
      },
      "source": [
        "df = df[df['label'].isin([1,10])]"
      ],
      "execution_count": 0,
      "outputs": []
    },
    {
      "cell_type": "code",
      "metadata": {
        "id": "bb1--LW6W3fo",
        "colab_type": "code",
        "outputId": "bb3715de-d4f7-4851-c19a-441592e1c387",
        "colab": {
          "base_uri": "https://localhost:8080/",
          "height": 204
        }
      },
      "source": [
        "df.head()"
      ],
      "execution_count": 0,
      "outputs": [
        {
          "output_type": "execute_result",
          "data": {
            "text/html": [
              "<div>\n",
              "<style scoped>\n",
              "    .dataframe tbody tr th:only-of-type {\n",
              "        vertical-align: middle;\n",
              "    }\n",
              "\n",
              "    .dataframe tbody tr th {\n",
              "        vertical-align: top;\n",
              "    }\n",
              "\n",
              "    .dataframe thead th {\n",
              "        text-align: right;\n",
              "    }\n",
              "</style>\n",
              "<table border=\"1\" class=\"dataframe\">\n",
              "  <thead>\n",
              "    <tr style=\"text-align: right;\">\n",
              "      <th></th>\n",
              "      <th>label</th>\n",
              "      <th>text</th>\n",
              "    </tr>\n",
              "  </thead>\n",
              "  <tbody>\n",
              "    <tr>\n",
              "      <th>4</th>\n",
              "      <td>10</td>\n",
              "      <td>From: kkeller@mail.sas.upenn.edu (Keith Keller...</td>\n",
              "    </tr>\n",
              "    <tr>\n",
              "      <th>10</th>\n",
              "      <td>1</td>\n",
              "      <td>From: nfotis@ntua.gr (Nick C. Fotis)\\nSubject:...</td>\n",
              "    </tr>\n",
              "    <tr>\n",
              "      <th>17</th>\n",
              "      <td>10</td>\n",
              "      <td>From: jwh@sei.cmu.edu (John Huber)\\nSubject: R...</td>\n",
              "    </tr>\n",
              "    <tr>\n",
              "      <th>24</th>\n",
              "      <td>10</td>\n",
              "      <td>From: jimg@cybernet.cse.fau.edu (Jim Gorycki)\\...</td>\n",
              "    </tr>\n",
              "    <tr>\n",
              "      <th>28</th>\n",
              "      <td>10</td>\n",
              "      <td>From: farenebt@craft.camp.clarkson.edu (Droopy...</td>\n",
              "    </tr>\n",
              "  </tbody>\n",
              "</table>\n",
              "</div>"
            ],
            "text/plain": [
              "    label                                               text\n",
              "4      10  From: kkeller@mail.sas.upenn.edu (Keith Keller...\n",
              "10      1  From: nfotis@ntua.gr (Nick C. Fotis)\\nSubject:...\n",
              "17     10  From: jwh@sei.cmu.edu (John Huber)\\nSubject: R...\n",
              "24     10  From: jimg@cybernet.cse.fau.edu (Jim Gorycki)\\...\n",
              "28     10  From: farenebt@craft.camp.clarkson.edu (Droopy..."
            ]
          },
          "metadata": {
            "tags": []
          },
          "execution_count": 83
        }
      ]
    },
    {
      "cell_type": "code",
      "metadata": {
        "id": "0oCfEmgrW4qw",
        "colab_type": "code",
        "outputId": "ecff6455-a1e5-487a-d247-b2cff2e7fdfd",
        "colab": {
          "base_uri": "https://localhost:8080/",
          "height": 34
        }
      },
      "source": [
        "df['label'].unique()"
      ],
      "execution_count": 0,
      "outputs": [
        {
          "output_type": "execute_result",
          "data": {
            "text/plain": [
              "array([10,  1])"
            ]
          },
          "metadata": {
            "tags": []
          },
          "execution_count": 84
        }
      ]
    },
    {
      "cell_type": "code",
      "metadata": {
        "id": "A8sK_C6qW79h",
        "colab_type": "code",
        "colab": {}
      },
      "source": [
        "df.reset_index(drop=True, inplace=True)"
      ],
      "execution_count": 0,
      "outputs": []
    },
    {
      "cell_type": "code",
      "metadata": {
        "id": "_W1vZPzSW_0x",
        "colab_type": "code",
        "outputId": "a70c7cab-33d1-43f6-ef75-56b681f58d20",
        "colab": {
          "base_uri": "https://localhost:8080/",
          "height": 204
        }
      },
      "source": [
        "df.head()"
      ],
      "execution_count": 0,
      "outputs": [
        {
          "output_type": "execute_result",
          "data": {
            "text/html": [
              "<div>\n",
              "<style scoped>\n",
              "    .dataframe tbody tr th:only-of-type {\n",
              "        vertical-align: middle;\n",
              "    }\n",
              "\n",
              "    .dataframe tbody tr th {\n",
              "        vertical-align: top;\n",
              "    }\n",
              "\n",
              "    .dataframe thead th {\n",
              "        text-align: right;\n",
              "    }\n",
              "</style>\n",
              "<table border=\"1\" class=\"dataframe\">\n",
              "  <thead>\n",
              "    <tr style=\"text-align: right;\">\n",
              "      <th></th>\n",
              "      <th>label</th>\n",
              "      <th>text</th>\n",
              "    </tr>\n",
              "  </thead>\n",
              "  <tbody>\n",
              "    <tr>\n",
              "      <th>0</th>\n",
              "      <td>10</td>\n",
              "      <td>From: kkeller@mail.sas.upenn.edu (Keith Keller...</td>\n",
              "    </tr>\n",
              "    <tr>\n",
              "      <th>1</th>\n",
              "      <td>1</td>\n",
              "      <td>From: nfotis@ntua.gr (Nick C. Fotis)\\nSubject:...</td>\n",
              "    </tr>\n",
              "    <tr>\n",
              "      <th>2</th>\n",
              "      <td>10</td>\n",
              "      <td>From: jwh@sei.cmu.edu (John Huber)\\nSubject: R...</td>\n",
              "    </tr>\n",
              "    <tr>\n",
              "      <th>3</th>\n",
              "      <td>10</td>\n",
              "      <td>From: jimg@cybernet.cse.fau.edu (Jim Gorycki)\\...</td>\n",
              "    </tr>\n",
              "    <tr>\n",
              "      <th>4</th>\n",
              "      <td>10</td>\n",
              "      <td>From: farenebt@craft.camp.clarkson.edu (Droopy...</td>\n",
              "    </tr>\n",
              "  </tbody>\n",
              "</table>\n",
              "</div>"
            ],
            "text/plain": [
              "   label                                               text\n",
              "0     10  From: kkeller@mail.sas.upenn.edu (Keith Keller...\n",
              "1      1  From: nfotis@ntua.gr (Nick C. Fotis)\\nSubject:...\n",
              "2     10  From: jwh@sei.cmu.edu (John Huber)\\nSubject: R...\n",
              "3     10  From: jimg@cybernet.cse.fau.edu (Jim Gorycki)\\...\n",
              "4     10  From: farenebt@craft.camp.clarkson.edu (Droopy..."
            ]
          },
          "metadata": {
            "tags": []
          },
          "execution_count": 88
        }
      ]
    },
    {
      "cell_type": "code",
      "metadata": {
        "id": "U1URcL_DXAqJ",
        "colab_type": "code",
        "outputId": "da9d65a9-659f-4937-a234-89a8c891e32c",
        "colab": {
          "base_uri": "https://localhost:8080/",
          "height": 286
        }
      },
      "source": [
        "# class label distribution\n",
        "df['label'].plot(kind='hist')"
      ],
      "execution_count": 0,
      "outputs": [
        {
          "output_type": "execute_result",
          "data": {
            "text/plain": [
              "<matplotlib.axes._subplots.AxesSubplot at 0x7fc671f64f98>"
            ]
          },
          "metadata": {
            "tags": []
          },
          "execution_count": 89
        },
        {
          "output_type": "display_data",
          "data": {
            "image/png": "[encoded data removed]",
            "text/plain": [
              "<Figure size 432x288 with 1 Axes>"
            ]
          },
          "metadata": {
            "tags": []
          }
        }
      ]
    },
    {
      "cell_type": "code",
      "metadata": {
        "id": "aGo79WuSXQgy",
        "colab_type": "code",
        "outputId": "700dcf7d-808e-4371-f1e5-6d1ba5f356a2",
        "colab": {
          "base_uri": "https://localhost:8080/",
          "height": 68
        }
      },
      "source": [
        "df['label'].value_counts()"
      ],
      "execution_count": 0,
      "outputs": [
        {
          "output_type": "execute_result",
          "data": {
            "text/plain": [
              "10    600\n",
              "1     584\n",
              "Name: label, dtype: int64"
            ]
          },
          "metadata": {
            "tags": []
          },
          "execution_count": 90
        }
      ]
    },
    {
      "cell_type": "markdown",
      "metadata": {
        "id": "ZNVi-3LpXW9K",
        "colab_type": "text"
      },
      "source": [
        "Both classes have almost equal distribution."
      ]
    },
    {
      "cell_type": "markdown",
      "metadata": {
        "id": "0GchGsIZXm5m",
        "colab_type": "text"
      },
      "source": [
        "**Data Preprocessing**"
      ]
    },
    {
      "cell_type": "code",
      "metadata": {
        "id": "y6Cu8U75XTP6",
        "colab_type": "code",
        "colab": {}
      },
      "source": [
        "df['text'] = df['text'].str.replace(\"[^a-zA-Z]\", \" \")"
      ],
      "execution_count": 0,
      "outputs": []
    },
    {
      "cell_type": "code",
      "metadata": {
        "id": "mqdUjo4tX4br",
        "colab_type": "code",
        "outputId": "20f5265d-b785-4302-ba17-7b1e36666bb2",
        "colab": {
          "base_uri": "https://localhost:8080/",
          "height": 51
        }
      },
      "source": [
        "# remove stop words\n",
        "import nltk\n",
        "nltk.download('stopwords')\n",
        "\n",
        "from nltk.corpus import stopwords\n",
        "stop_words = stopwords.words('english')"
      ],
      "execution_count": 0,
      "outputs": [
        {
          "output_type": "stream",
          "text": [
            "[nltk_data] Downloading package stopwords to /root/nltk_data...\n",
            "[nltk_data]   Package stopwords is already up-to-date!\n"
          ],
          "name": "stdout"
        }
      ]
    },
    {
      "cell_type": "code",
      "metadata": {
        "id": "EadYUG9VYF2T",
        "colab_type": "code",
        "colab": {}
      },
      "source": [
        "# tokenization and removing stopwords\n",
        "tokenized_doc = df['text'].apply(lambda x: x.split())\n",
        "\n",
        "detokenized_doc = tokenized_doc.apply(lambda x: [item for item in x if item not in stop_words])"
      ],
      "execution_count": 0,
      "outputs": []
    },
    {
      "cell_type": "code",
      "metadata": {
        "id": "wlThwCD0qhvj",
        "colab_type": "code",
        "colab": {}
      },
      "source": [
        "df['text'] = df['text'].apply(lambda x: \" \".join([item for item in x.split() if item not in stop_words]))"
      ],
      "execution_count": 0,
      "outputs": []
    },
    {
      "cell_type": "code",
      "metadata": {
        "id": "QNKwYr2Dh4tD",
        "colab_type": "code",
        "outputId": "3d029141-aac7-4259-8284-b508cc1a3232",
        "colab": {
          "base_uri": "https://localhost:8080/",
          "height": 204
        }
      },
      "source": [
        "df.head()"
      ],
      "execution_count": 0,
      "outputs": [
        {
          "output_type": "execute_result",
          "data": {
            "text/html": [
              "<div>\n",
              "<style scoped>\n",
              "    .dataframe tbody tr th:only-of-type {\n",
              "        vertical-align: middle;\n",
              "    }\n",
              "\n",
              "    .dataframe tbody tr th {\n",
              "        vertical-align: top;\n",
              "    }\n",
              "\n",
              "    .dataframe thead th {\n",
              "        text-align: right;\n",
              "    }\n",
              "</style>\n",
              "<table border=\"1\" class=\"dataframe\">\n",
              "  <thead>\n",
              "    <tr style=\"text-align: right;\">\n",
              "      <th></th>\n",
              "      <th>label</th>\n",
              "      <th>text</th>\n",
              "    </tr>\n",
              "  </thead>\n",
              "  <tbody>\n",
              "    <tr>\n",
              "      <th>0</th>\n",
              "      <td>10</td>\n",
              "      <td>From kkeller mail sas upenn edu Keith Keller S...</td>\n",
              "    </tr>\n",
              "    <tr>\n",
              "      <th>1</th>\n",
              "      <td>1</td>\n",
              "      <td>From nfotis ntua gr Nick C Fotis Subject Apr C...</td>\n",
              "    </tr>\n",
              "    <tr>\n",
              "      <th>2</th>\n",
              "      <td>10</td>\n",
              "      <td>From jwh sei cmu edu John Huber Subject Re NHL...</td>\n",
              "    </tr>\n",
              "    <tr>\n",
              "      <th>3</th>\n",
              "      <td>10</td>\n",
              "      <td>From jimg cybernet cse fau edu Jim Gorycki Sub...</td>\n",
              "    </tr>\n",
              "    <tr>\n",
              "      <th>4</th>\n",
              "      <td>10</td>\n",
              "      <td>From farenebt craft camp clarkson edu Droopy S...</td>\n",
              "    </tr>\n",
              "  </tbody>\n",
              "</table>\n",
              "</div>"
            ],
            "text/plain": [
              "   label                                               text\n",
              "0     10  From kkeller mail sas upenn edu Keith Keller S...\n",
              "1      1  From nfotis ntua gr Nick C Fotis Subject Apr C...\n",
              "2     10  From jwh sei cmu edu John Huber Subject Re NHL...\n",
              "3     10  From jimg cybernet cse fau edu Jim Gorycki Sub...\n",
              "4     10  From farenebt craft camp clarkson edu Droopy S..."
            ]
          },
          "metadata": {
            "tags": []
          },
          "execution_count": 94
        }
      ]
    },
    {
      "cell_type": "code",
      "metadata": {
        "id": "GEosVrCfiY0z",
        "colab_type": "code",
        "colab": {}
      },
      "source": [
        "from sklearn.model_selection import train_test_split\n",
        "\n",
        "df_train, df_test = train_test_split(df, test_size = 0.4, random_state=12)"
      ],
      "execution_count": 0,
      "outputs": []
    },
    {
      "cell_type": "code",
      "metadata": {
        "id": "a5VhUUYiiat4",
        "colab_type": "code",
        "outputId": "12e3a4f6-f2c2-4b5b-e7d4-3dcc943b26fc",
        "colab": {
          "base_uri": "https://localhost:8080/",
          "height": 34
        }
      },
      "source": [
        "print(df_train.shape, df_test.shape)"
      ],
      "execution_count": 0,
      "outputs": [
        {
          "output_type": "stream",
          "text": [
            "(710, 2) (474, 2)\n"
          ],
          "name": "stdout"
        }
      ]
    },
    {
      "cell_type": "markdown",
      "metadata": {
        "id": "T0i3nMxRt29-",
        "colab_type": "text"
      },
      "source": [
        "**Prepare data** in ULMFit language model format - using fastai library"
      ]
    },
    {
      "cell_type": "code",
      "metadata": {
        "id": "d9TMTCDptvPZ",
        "colab_type": "code",
        "colab": {}
      },
      "source": [
        "# Language model data\n",
        "data_lang_model_format = TextLMDataBunch.from_df(train_df = df_train, valid_df=df_test, path=\"\")"
      ],
      "execution_count": 0,
      "outputs": []
    },
    {
      "cell_type": "code",
      "metadata": {
        "id": "6w8rgcghutSg",
        "colab_type": "code",
        "outputId": "8d45c2da-aa42-47fb-a6b1-1cf8925dd18e",
        "colab": {
          "base_uri": "https://localhost:8080/",
          "height": 326
        }
      },
      "source": [
        "data_lang_model_format"
      ],
      "execution_count": 0,
      "outputs": [
        {
          "output_type": "execute_result",
          "data": {
            "text/plain": [
              "TextLMDataBunch;\n",
              "\n",
              "Train: LabelList (710 items)\n",
              "x: LMTextList\n",
              "xxbos xxmaj from tiang midway ecn uoknor edu xxmaj tiang xxmaj subject xxup vesa standard xxup vga xxup svga programming xxmaj nntp xxmaj posting xxmaj host midway ecn uoknor edu xxmaj organization xxmaj engineering xxmaj computer xxmaj network xxmaj university xxmaj oklahoma xxmaj norman xxup ok xxup usa xxmaj keywords vga xxmaj lines xxmaj hi i question graphics programming xxup vga xxup svga xxmaj how xxup vesa standard works xxmaj any documentation xxup vesa standard xxmaj at higher resolution xxwrep 4 x xxup vga mode video memory a a xxrep 4 f longer sufficient hold info trick fast image manipulation i heard memory mapping video memory bank switching know nothing implemented xxmaj any advice anyone xxmaj my interest x x mode xxmaj should mode called xxup svga mode xxmaj what technique fast image scrolling mode xxmaj how deal different xxup svga cards xxmaj your xxunk books sources questions would greatly appreciated xxmaj please send mail xxmaj thanks advance xxmaj tiang t xxmaj foo tiang xxunk ecn uoknor edu,xxbos xxmaj from icop csa bu edu xxmaj antonio xxmaj pera xxmaj subject xxup abc coverage xxmaj distribution usa xxmaj organization xxmaj computer xxmaj science xxmaj department xxmaj boston xxmaj university xxmaj boston xxup ma xxup usa xxmaj lines xxmaj originator icop csa,xxbos xxmaj from lioness maple circa ufl edu xxmaj subject xxmaj re comp graphics programmer xxmaj organization xxmaj center xxmaj xxunk xxmaj research xxmaj computing xxmaj activities xxmaj lines xxmaj reply xxmaj to xxup lioness xxunk ufl edu xxup nntp xxmaj posting xxmaj host maple circa ufl edu xxmaj this sounds wonderful seems one either wants spend time power xxmaj for example i would like see comp graphics architecture like comp graphics algorithms comp graphics algorithms comp graphics algorithms misc comp graphics hardware comp graphics misc comp graphics software apps xxmaj however almost overkill xxmaj something like would probably make xxup everyone lot xxunk comp graphics programmer comp graphics hardware comp graphics apps comp graphics misc xxmaj it would nice see xxunk groups xxunk morphing raytracing image processing interactive graphics xxunk languages object systems etc could posted relevant group mailing list xxunk xxmaj that way someone reads news see subject xxunk rather xxunk xxmaj system specific stuff comp sys comp os programmer xxmaj need help programming xxup gl xxunk programming information xxmaj fast xxunk xxup pc xxmaj hardware technical stuff xxmaj speed xxmaj weitek p xxmaj drivers speedstar x xxmaj applications oriented stuff xxunk help xxmaj how good dstudio xxmaj best image processing program xxmaj amiga xxmaj programming oriented stuff xxmaj fast polygon routine needed xxmaj good morphing xxunk wanted xxmaj best depth sort triangles xxmaj which c library get i wish someone power would get xxup xxunk xxup cfv going stuff newsgroup needs,xxbos xxmaj from xxup lmarsha cms cc wayne edu xxmaj xxunk xxmaj xxunk xxmaj subject xxmaj re xxup where xxup are xxup the xxup doubters xxup now xxup hmm xxmaj article i d cms xxup ba xxup xxunk xxup lmarsha xxmaj organization xxmaj wayne xxmaj state xxmaj university xxmaj detroit xxup mi u s a xxmaj lines xxup nntp xxmaj posting xxmaj host cms cc wayne edu xxmaj that true according stats xxmaj chicago good record xxmaj toronto xxmaj it interesting list xxmaj toronto ahead xxmaj chicago,xxbos xxmaj from lmcdapi noah ericsson se xxmaj daniel xxmaj piche xxmaj subject xxmaj re xxup nhl xxmaj team xxmaj captains xxmaj reply xxmaj to lmcdapi noah ericsson se xxmaj organization xxmaj ericsson xxmaj communication xxmaj inc xxmaj lines xxmaj nntp xxmaj posting xxmaj host xxunk lmc ericsson se x xxmaj disclaimer xxmaj this article posted user xxmaj ericsson xxmaj any opinions expressed strictly user necessarily xxmaj ericsson xxmaj chris xxmaj chelios xxmaj montreal co captain xxmaj guy xxmaj carbonneau traded xxmaj chicago xxmaj denis xxmaj savard xxmaj peter xxmaj stastny captain xxmaj quebec xxmaj nordiques traded xxmaj new xxmaj jersey xxmaj also xxmaj mark xxmaj messier captain xxmaj edmonton xxmaj oilers traded xxmaj new xxmaj york xxmaj how xxmaj dale xxmaj hawerchuk xxmaj winnipeg traded xxmaj buffalo captain i think i forget xxmaj wayne know traded l a captain xxmaj didn strip xxmaj xxunk xxmaj clark xxunk xxunk xxmaj toronto xxmaj just updates thoughts xxmaj cheer xxmaj daniel xxmaj piche xxup lmc u xxup det xxmaj design xxmaj ericsson xxmaj communications xxmaj inc xxmaj xxunk xxmaj xxunk rd xxunk xxmaj town xxmaj xxunk xxmaj royal xxmaj quebec h p n ext e mail xxup lmcdapi xxup lmc xxup ericsson xxup se xxunk xxup lmc xxup lmcdapi xxup cheers\n",
              "y: LMLabelList\n",
              ",,,,\n",
              "Path: .;\n",
              "\n",
              "Valid: LabelList (474 items)\n",
              "x: LMTextList\n",
              "xxbos xxmaj from lusardi cs buffalo edu xxmaj christopher xxmaj lusardi xxmaj subject xxmaj program xxmaj included xxmaj edge xxmaj detection xxmaj algorithms xxmaj article i d acsu c xxunk xxup xxunk xxmaj organization xxmaj state xxmaj university xxmaj new xxmaj york xxmaj buffalo xxmaj comp xxmaj sci xxmaj lines xxmaj nntp xxmaj posting xxmaj host xxunk cs buffalo edu xxmaj this program xxunk edges xxunk operators laplacian operator xxmaj it output raw grey scale images edges xxmaj the output look like edges xxmaj in xxunk terms i correct errors xxmaj any improvements welcome i even accept corrected code xxmaj if i xxunk xxup input xxup image digital gaussian remove noise i get improvement laplacian types edge detection include xxunk h include math h define xxup xxunk define xxup xxunk xxunk char xxmaj input xxmaj image xxup xxunk xxup xxunk xxunk char xxmaj angles xxmaj wanted xxup xxunk xxup xxunk xxunk char xxmaj magnitude xxmaj image xxup xxunk xxup xxunk xxunk xxmaj xxunk xxmaj op xxunk xxmaj xxunk xxmaj op xxunk xxmaj xxunk xxmaj op xxunk xxmaj xxunk xxmaj op xxunk xxmaj xxunk xxmaj op xxunk xxmaj xxunk xxmaj op xxunk xxmaj xxunk xxmaj op xxunk xxmaj xxunk xxmaj op xxunk xxmaj xxunk xxmaj op xxunk xxmaj xxunk row xxunk xxunk row xxunk xxunk value xxunk op xxunk op xxunk xxunk xxwrep 4 xxmaj xxunk xxunk xxwrep xxunk xxmaj xxunk op xxunk op xxunk op xxunk op xxunk op xxunk op xxunk row op xxunk xxunk op xxunk xxmaj xxunk xxunk xxmaj input xxmaj image row op xxunk xxunk op xxunk xxmaj xxunk xxmaj op op xxunk op xxunk xxmaj xxunk xxunk xxmaj input xxmaj image row op xxunk xxunk op xxunk xxmaj xxunk xxmaj op op xxunk op xxunk xxmaj xxunk xxunk xxmaj input xxmaj image row op xxunk xxunk op xxunk xxmaj xxunk xxmaj op op xxunk op xxunk xxmaj xxunk xxunk xxmaj input xxmaj image row op xxunk xxunk op xxunk xxmaj xxunk xxmaj op op xxunk op xxunk xxmaj xxunk xxunk xxmaj input xxmaj image row op xxunk xxunk op xxunk xxmaj xxunk xxmaj op op xxunk op xxunk xxmaj xxunk xxunk xxmaj input xxmaj image row op xxunk xxunk op xxunk xxmaj xxunk xxmaj op op xxunk op xxunk xxmaj xxunk xxunk xxmaj input xxmaj image row op xxunk xxunk op xxunk xxmaj xxunk xxmaj op op xxunk op xxunk xxmaj xxunk xxunk xxmaj input xxmaj image row op xxunk xxunk op xxunk xxmaj xxunk xxmaj op op xxunk op xxunk xxmaj xxunk xxmaj xxunk value xxmaj xxunk else value xxmaj xxunk value xxmaj xxunk value xxmaj xxunk value xxmaj xxunk value xxmaj xxunk value xxmaj xxunk value xxmaj xxunk value xxmaj xxunk value xxmaj xxunk value xxmaj xxunk value xxmaj xxunk value xxmaj xxunk value xxmaj xxunk xxmaj magnitude xxmaj image row xxunk char value xxunk xxmaj xxunk row xxunk xxunk row xxunk xxunk op xxunk op xxunk xxmaj magnitude xxmaj image row xxunk op xxunk op xxunk op xxunk op xxunk op xxunk op xxunk row op xxunk xxunk op xxunk xxmaj magnitude xxmaj image row xxunk char xxunk xxmaj magnitude xxmaj image row xxunk xxunk xxmaj input xxmaj image row op xxunk xxunk op xxunk xxmaj xxunk xxmaj op op xxunk op xxunk main xxup file xxmaj original xxmaj image xxunk xxup file xxmaj xxunk xxunk xxunk xxmaj xxunk xxunk xxunk xxmaj xxunk xxunk xxunk xxup file xxmaj xxunk xxunk xxunk xxunk row xxunk xxmaj algo xxmaj count xxmaj original xxmaj image xxunk xxunk xxup input xxup image xxunk xxmaj xxunk xxunk xxunk xxunk xxmaj xxunk xxmaj magnitude xxunk xxmaj xxunk xxunk xxunk xxunk xxmaj xxunk xxmaj magnitude xxunk xxunk xxunk char xxmaj input xxmaj image xxunk xxunk char xxup xxunk xxup xxunk xxmaj original xxmaj image xxunk xxmaj algo xxmaj count xxmaj algo xxmaj count xxmaj algo xxmaj count row row xxup xxunk row xxunk xxunk xxup xxunk xxunk xxmaj algo xxmaj count xxmaj xxunk row xxunk else xxmaj xxunk row xxunk xxmaj algo xxmaj count xxunk xxmaj magnitude xxmaj image xxunk char xxup xxunk xxup xxunk xxmaj xxunk xxunk xxunk else xxunk xxmaj magnitude xxmaj image xxunk char xxup xxunk xxup xxunk xxmaj xxunk xxunk xxunk,xxbos xxmaj from xxunk ccu umanitoba ca j m k xxmaj fu xxmaj subject xxmaj re xxmaj tie xxmaj breaker xxmaj isles xxmaj devils xxmaj nntp xxmaj posting xxmaj host data cc umanitoba ca xxmaj organization xxmaj university xxmaj manitoba xxmaj winnipeg xxmaj canada xxmaj lines xxmaj why i believe xxmaj devils xxmaj islanders got points xxmaj say example another team record points total xxmaj the xxmaj islanders xxmaj devils records xxmaj it simple xxunk xxunk xxmaj xxunk,xxbos xxmaj from xxunk mips com xxmaj xxunk xxmaj xxunk xxmaj france xxmaj subject xxmaj european xxmaj russian xxmaj hockey team addresses xxmaj organization xxmaj silicon xxmaj graphics xxmaj inc xxmaj lines xxup nntp xxmaj posting xxmaj host ralph xxunk sgi com xxmaj originator xxunk ralph xxunk sgi com xxmaj does anyone addresses following hockey teams located xxmaj czech xxmaj xxunk xxmaj xxunk xxmaj finland xxmaj russia xxmaj sweden xxmaj any information find addresses would also appreciated xxmaj xxunk xxmaj xxunk xxmaj xxunk xxmaj budejovice xxmaj xxunk xxmaj xxunk xxmaj xxunk xxmaj xxunk xxmaj xxunk xxmaj xxunk xxmaj xxunk xxup xxunk xxup hv xxmaj xxunk xxmaj xxunk xxup xxunk xxup ht xxmaj xxunk xxmaj jokerit xxmaj xxunk xxmaj xxunk xxmaj xxunk xxmaj xxunk xxmaj xxunk xxmaj xxunk xxmaj xxunk xxmaj xxunk xxmaj xxunk xxmaj xxunk xxmaj xxunk xxmaj xxunk xxmaj modo xxmaj xxunk xxmaj xxunk xxmaj red xxmaj army xxmaj xxunk xxmaj xxunk xxmaj xxunk xxmaj xxunk xxmaj wings xxmaj xxunk xxmaj xxunk xxup tps xxmaj xxunk xxmaj xxunk xxmaj xxunk xxmaj xxunk xxmaj xxunk xxmaj xxunk xxmaj xxunk,xxbos xxmaj subject xxmaj re xxmaj rheaume start xxmaj from s xxup xxunk xxup xxunk xxup edu xxmaj organization xxup xxunk xxmaj st xxmaj louis xxup nntp xxmaj posting xxmaj host xxunk xxunk edu x xxmaj newsreader xxup xxunk xxup vm s xxmaj lines xxmaj just quick note xxmaj manon immediate future xxmaj rumor xxup usa xxmaj today xxunk xxunk page playing xxmaj tampa xxmaj bay affiliate xxup xxunk i xxmaj thin k xxmaj it couple days xxmaj xxunk supposedly xxunk xxunk xxunk goaltender spot i think performance damn good someone played xxunk year seeing lot h er xxmaj atlanta years come xxmaj ward,xxbos xxmaj from alex xxunk msk su xxmaj alex xxmaj xxunk xxmaj subject xxmaj help renderman language wanted xxmaj reply xxmaj to alex xxunk msk su xxmaj organization unknown xxmaj lines xxmaj hello everybody xxmaj if using xxup pixar s renderman d scene description language creating d worlds please help i using renderman library next documentation nextstep version renderman available i create complicated scenes render using surface shaders i bring life xxunk xxunk xxunk xxmaj as far i understand i define xxunk xxunk maps produce xxunk xxunk i know use xxmaj any xxunk simple xxup xxunk c examples appreciated xxmaj thanks advance\n",
              "y: LMLabelList\n",
              ",,,,\n",
              "Path: .;\n",
              "\n",
              "Test: None"
            ]
          },
          "metadata": {
            "tags": []
          },
          "execution_count": 105
        }
      ]
    },
    {
      "cell_type": "code",
      "metadata": {
        "id": "VTOYA1rkvk1F",
        "colab_type": "code",
        "outputId": "b5121d89-e94e-48d8-af2e-ee5b6958582b",
        "colab": {
          "base_uri": "https://localhost:8080/",
          "height": 139
        }
      },
      "source": [
        "data_lang_model_format.train_ds"
      ],
      "execution_count": 0,
      "outputs": [
        {
          "output_type": "execute_result",
          "data": {
            "text/plain": [
              "LabelList (710 items)\n",
              "x: LMTextList\n",
              "xxbos xxmaj from tiang midway ecn uoknor edu xxmaj tiang xxmaj subject xxup vesa standard xxup vga xxup svga programming xxmaj nntp xxmaj posting xxmaj host midway ecn uoknor edu xxmaj organization xxmaj engineering xxmaj computer xxmaj network xxmaj university xxmaj oklahoma xxmaj norman xxup ok xxup usa xxmaj keywords vga xxmaj lines xxmaj hi i question graphics programming xxup vga xxup svga xxmaj how xxup vesa standard works xxmaj any documentation xxup vesa standard xxmaj at higher resolution xxwrep 4 x xxup vga mode video memory a a xxrep 4 f longer sufficient hold info trick fast image manipulation i heard memory mapping video memory bank switching know nothing implemented xxmaj any advice anyone xxmaj my interest x x mode xxmaj should mode called xxup svga mode xxmaj what technique fast image scrolling mode xxmaj how deal different xxup svga cards xxmaj your xxunk books sources questions would greatly appreciated xxmaj please send mail xxmaj thanks advance xxmaj tiang t xxmaj foo tiang xxunk ecn uoknor edu,xxbos xxmaj from icop csa bu edu xxmaj antonio xxmaj pera xxmaj subject xxup abc coverage xxmaj distribution usa xxmaj organization xxmaj computer xxmaj science xxmaj department xxmaj boston xxmaj university xxmaj boston xxup ma xxup usa xxmaj lines xxmaj originator icop csa,xxbos xxmaj from lioness maple circa ufl edu xxmaj subject xxmaj re comp graphics programmer xxmaj organization xxmaj center xxmaj xxunk xxmaj research xxmaj computing xxmaj activities xxmaj lines xxmaj reply xxmaj to xxup lioness xxunk ufl edu xxup nntp xxmaj posting xxmaj host maple circa ufl edu xxmaj this sounds wonderful seems one either wants spend time power xxmaj for example i would like see comp graphics architecture like comp graphics algorithms comp graphics algorithms comp graphics algorithms misc comp graphics hardware comp graphics misc comp graphics software apps xxmaj however almost overkill xxmaj something like would probably make xxup everyone lot xxunk comp graphics programmer comp graphics hardware comp graphics apps comp graphics misc xxmaj it would nice see xxunk groups xxunk morphing raytracing image processing interactive graphics xxunk languages object systems etc could posted relevant group mailing list xxunk xxmaj that way someone reads news see subject xxunk rather xxunk xxmaj system specific stuff comp sys comp os programmer xxmaj need help programming xxup gl xxunk programming information xxmaj fast xxunk xxup pc xxmaj hardware technical stuff xxmaj speed xxmaj weitek p xxmaj drivers speedstar x xxmaj applications oriented stuff xxunk help xxmaj how good dstudio xxmaj best image processing program xxmaj amiga xxmaj programming oriented stuff xxmaj fast polygon routine needed xxmaj good morphing xxunk wanted xxmaj best depth sort triangles xxmaj which c library get i wish someone power would get xxup xxunk xxup cfv going stuff newsgroup needs,xxbos xxmaj from xxup lmarsha cms cc wayne edu xxmaj xxunk xxmaj xxunk xxmaj subject xxmaj re xxup where xxup are xxup the xxup doubters xxup now xxup hmm xxmaj article i d cms xxup ba xxup xxunk xxup lmarsha xxmaj organization xxmaj wayne xxmaj state xxmaj university xxmaj detroit xxup mi u s a xxmaj lines xxup nntp xxmaj posting xxmaj host cms cc wayne edu xxmaj that true according stats xxmaj chicago good record xxmaj toronto xxmaj it interesting list xxmaj toronto ahead xxmaj chicago,xxbos xxmaj from lmcdapi noah ericsson se xxmaj daniel xxmaj piche xxmaj subject xxmaj re xxup nhl xxmaj team xxmaj captains xxmaj reply xxmaj to lmcdapi noah ericsson se xxmaj organization xxmaj ericsson xxmaj communication xxmaj inc xxmaj lines xxmaj nntp xxmaj posting xxmaj host xxunk lmc ericsson se x xxmaj disclaimer xxmaj this article posted user xxmaj ericsson xxmaj any opinions expressed strictly user necessarily xxmaj ericsson xxmaj chris xxmaj chelios xxmaj montreal co captain xxmaj guy xxmaj carbonneau traded xxmaj chicago xxmaj denis xxmaj savard xxmaj peter xxmaj stastny captain xxmaj quebec xxmaj nordiques traded xxmaj new xxmaj jersey xxmaj also xxmaj mark xxmaj messier captain xxmaj edmonton xxmaj oilers traded xxmaj new xxmaj york xxmaj how xxmaj dale xxmaj hawerchuk xxmaj winnipeg traded xxmaj buffalo captain i think i forget xxmaj wayne know traded l a captain xxmaj didn strip xxmaj xxunk xxmaj clark xxunk xxunk xxmaj toronto xxmaj just updates thoughts xxmaj cheer xxmaj daniel xxmaj piche xxup lmc u xxup det xxmaj design xxmaj ericsson xxmaj communications xxmaj inc xxmaj xxunk xxmaj xxunk rd xxunk xxmaj town xxmaj xxunk xxmaj royal xxmaj quebec h p n ext e mail xxup lmcdapi xxup lmc xxup ericsson xxup se xxunk xxup lmc xxup lmcdapi xxup cheers\n",
              "y: LMLabelList\n",
              ",,,,\n",
              "Path: ."
            ]
          },
          "metadata": {
            "tags": []
          },
          "execution_count": 112
        }
      ]
    },
    {
      "cell_type": "code",
      "metadata": {
        "id": "-PQSryoRvzy2",
        "colab_type": "code",
        "outputId": "898e171e-b8d1-43a9-94f8-60ab0f0bd597",
        "colab": {
          "base_uri": "https://localhost:8080/",
          "height": 139
        }
      },
      "source": [
        "data_lang_model_format.valid_ds"
      ],
      "execution_count": 0,
      "outputs": [
        {
          "output_type": "execute_result",
          "data": {
            "text/plain": [
              "LabelList (474 items)\n",
              "x: LMTextList\n",
              "xxbos xxmaj from lusardi cs buffalo edu xxmaj christopher xxmaj lusardi xxmaj subject xxmaj program xxmaj included xxmaj edge xxmaj detection xxmaj algorithms xxmaj article i d acsu c xxunk xxup xxunk xxmaj organization xxmaj state xxmaj university xxmaj new xxmaj york xxmaj buffalo xxmaj comp xxmaj sci xxmaj lines xxmaj nntp xxmaj posting xxmaj host xxunk cs buffalo edu xxmaj this program xxunk edges xxunk operators laplacian operator xxmaj it output raw grey scale images edges xxmaj the output look like edges xxmaj in xxunk terms i correct errors xxmaj any improvements welcome i even accept corrected code xxmaj if i xxunk xxup input xxup image digital gaussian remove noise i get improvement laplacian types edge detection include xxunk h include math h define xxup xxunk define xxup xxunk xxunk char xxmaj input xxmaj image xxup xxunk xxup xxunk xxunk char xxmaj angles xxmaj wanted xxup xxunk xxup xxunk xxunk char xxmaj magnitude xxmaj image xxup xxunk xxup xxunk xxunk xxmaj xxunk xxmaj op xxunk xxmaj xxunk xxmaj op xxunk xxmaj xxunk xxmaj op xxunk xxmaj xxunk xxmaj op xxunk xxmaj xxunk xxmaj op xxunk xxmaj xxunk xxmaj op xxunk xxmaj xxunk xxmaj op xxunk xxmaj xxunk xxmaj op xxunk xxmaj xxunk xxmaj op xxunk xxmaj xxunk row xxunk xxunk row xxunk xxunk value xxunk op xxunk op xxunk xxunk xxwrep 4 xxmaj xxunk xxunk xxwrep xxunk xxmaj xxunk op xxunk op xxunk op xxunk op xxunk op xxunk op xxunk row op xxunk xxunk op xxunk xxmaj xxunk xxunk xxmaj input xxmaj image row op xxunk xxunk op xxunk xxmaj xxunk xxmaj op op xxunk op xxunk xxmaj xxunk xxunk xxmaj input xxmaj image row op xxunk xxunk op xxunk xxmaj xxunk xxmaj op op xxunk op xxunk xxmaj xxunk xxunk xxmaj input xxmaj image row op xxunk xxunk op xxunk xxmaj xxunk xxmaj op op xxunk op xxunk xxmaj xxunk xxunk xxmaj input xxmaj image row op xxunk xxunk op xxunk xxmaj xxunk xxmaj op op xxunk op xxunk xxmaj xxunk xxunk xxmaj input xxmaj image row op xxunk xxunk op xxunk xxmaj xxunk xxmaj op op xxunk op xxunk xxmaj xxunk xxunk xxmaj input xxmaj image row op xxunk xxunk op xxunk xxmaj xxunk xxmaj op op xxunk op xxunk xxmaj xxunk xxunk xxmaj input xxmaj image row op xxunk xxunk op xxunk xxmaj xxunk xxmaj op op xxunk op xxunk xxmaj xxunk xxunk xxmaj input xxmaj image row op xxunk xxunk op xxunk xxmaj xxunk xxmaj op op xxunk op xxunk xxmaj xxunk xxmaj xxunk value xxmaj xxunk else value xxmaj xxunk value xxmaj xxunk value xxmaj xxunk value xxmaj xxunk value xxmaj xxunk value xxmaj xxunk value xxmaj xxunk value xxmaj xxunk value xxmaj xxunk value xxmaj xxunk value xxmaj xxunk value xxmaj xxunk value xxmaj xxunk xxmaj magnitude xxmaj image row xxunk char value xxunk xxmaj xxunk row xxunk xxunk row xxunk xxunk op xxunk op xxunk xxmaj magnitude xxmaj image row xxunk op xxunk op xxunk op xxunk op xxunk op xxunk op xxunk row op xxunk xxunk op xxunk xxmaj magnitude xxmaj image row xxunk char xxunk xxmaj magnitude xxmaj image row xxunk xxunk xxmaj input xxmaj image row op xxunk xxunk op xxunk xxmaj xxunk xxmaj op op xxunk op xxunk main xxup file xxmaj original xxmaj image xxunk xxup file xxmaj xxunk xxunk xxunk xxmaj xxunk xxunk xxunk xxmaj xxunk xxunk xxunk xxup file xxmaj xxunk xxunk xxunk xxunk row xxunk xxmaj algo xxmaj count xxmaj original xxmaj image xxunk xxunk xxup input xxup image xxunk xxmaj xxunk xxunk xxunk xxunk xxmaj xxunk xxmaj magnitude xxunk xxmaj xxunk xxunk xxunk xxunk xxmaj xxunk xxmaj magnitude xxunk xxunk xxunk char xxmaj input xxmaj image xxunk xxunk char xxup xxunk xxup xxunk xxmaj original xxmaj image xxunk xxmaj algo xxmaj count xxmaj algo xxmaj count xxmaj algo xxmaj count row row xxup xxunk row xxunk xxunk xxup xxunk xxunk xxmaj algo xxmaj count xxmaj xxunk row xxunk else xxmaj xxunk row xxunk xxmaj algo xxmaj count xxunk xxmaj magnitude xxmaj image xxunk char xxup xxunk xxup xxunk xxmaj xxunk xxunk xxunk else xxunk xxmaj magnitude xxmaj image xxunk char xxup xxunk xxup xxunk xxmaj xxunk xxunk xxunk,xxbos xxmaj from xxunk ccu umanitoba ca j m k xxmaj fu xxmaj subject xxmaj re xxmaj tie xxmaj breaker xxmaj isles xxmaj devils xxmaj nntp xxmaj posting xxmaj host data cc umanitoba ca xxmaj organization xxmaj university xxmaj manitoba xxmaj winnipeg xxmaj canada xxmaj lines xxmaj why i believe xxmaj devils xxmaj islanders got points xxmaj say example another team record points total xxmaj the xxmaj islanders xxmaj devils records xxmaj it simple xxunk xxunk xxmaj xxunk,xxbos xxmaj from xxunk mips com xxmaj xxunk xxmaj xxunk xxmaj france xxmaj subject xxmaj european xxmaj russian xxmaj hockey team addresses xxmaj organization xxmaj silicon xxmaj graphics xxmaj inc xxmaj lines xxup nntp xxmaj posting xxmaj host ralph xxunk sgi com xxmaj originator xxunk ralph xxunk sgi com xxmaj does anyone addresses following hockey teams located xxmaj czech xxmaj xxunk xxmaj xxunk xxmaj finland xxmaj russia xxmaj sweden xxmaj any information find addresses would also appreciated xxmaj xxunk xxmaj xxunk xxmaj xxunk xxmaj budejovice xxmaj xxunk xxmaj xxunk xxmaj xxunk xxmaj xxunk xxmaj xxunk xxmaj xxunk xxmaj xxunk xxup xxunk xxup hv xxmaj xxunk xxmaj xxunk xxup xxunk xxup ht xxmaj xxunk xxmaj jokerit xxmaj xxunk xxmaj xxunk xxmaj xxunk xxmaj xxunk xxmaj xxunk xxmaj xxunk xxmaj xxunk xxmaj xxunk xxmaj xxunk xxmaj xxunk xxmaj xxunk xxmaj xxunk xxmaj modo xxmaj xxunk xxmaj xxunk xxmaj red xxmaj army xxmaj xxunk xxmaj xxunk xxmaj xxunk xxmaj xxunk xxmaj wings xxmaj xxunk xxmaj xxunk xxup tps xxmaj xxunk xxmaj xxunk xxmaj xxunk xxmaj xxunk xxmaj xxunk xxmaj xxunk xxmaj xxunk,xxbos xxmaj subject xxmaj re xxmaj rheaume start xxmaj from s xxup xxunk xxup xxunk xxup edu xxmaj organization xxup xxunk xxmaj st xxmaj louis xxup nntp xxmaj posting xxmaj host xxunk xxunk edu x xxmaj newsreader xxup xxunk xxup vm s xxmaj lines xxmaj just quick note xxmaj manon immediate future xxmaj rumor xxup usa xxmaj today xxunk xxunk page playing xxmaj tampa xxmaj bay affiliate xxup xxunk i xxmaj thin k xxmaj it couple days xxmaj xxunk supposedly xxunk xxunk xxunk goaltender spot i think performance damn good someone played xxunk year seeing lot h er xxmaj atlanta years come xxmaj ward,xxbos xxmaj from alex xxunk msk su xxmaj alex xxmaj xxunk xxmaj subject xxmaj help renderman language wanted xxmaj reply xxmaj to alex xxunk msk su xxmaj organization unknown xxmaj lines xxmaj hello everybody xxmaj if using xxup pixar s renderman d scene description language creating d worlds please help i using renderman library next documentation nextstep version renderman available i create complicated scenes render using surface shaders i bring life xxunk xxunk xxunk xxmaj as far i understand i define xxunk xxunk maps produce xxunk xxunk i know use xxmaj any xxunk simple xxup xxunk c examples appreciated xxmaj thanks advance\n",
              "y: LMLabelList\n",
              ",,,,\n",
              "Path: ."
            ]
          },
          "metadata": {
            "tags": []
          },
          "execution_count": 113
        }
      ]
    },
    {
      "cell_type": "code",
      "metadata": {
        "id": "sVJ-Ku5LvCpl",
        "colab_type": "code",
        "colab": {}
      },
      "source": [
        "# Classification data model\n",
        "data_class = TextClasDataBunch.from_df(path=\"\", train_df=df_train, valid_df = df_test, vocab=data_lang_model_format.train_ds.vocab, bs=32)"
      ],
      "execution_count": 0,
      "outputs": []
    },
    {
      "cell_type": "markdown",
      "metadata": {
        "id": "ah74mIPNv-LH",
        "colab_type": "text"
      },
      "source": [
        "**Fine Tuning the pre-trained Model and Making prediction**"
      ]
    },
    {
      "cell_type": "code",
      "metadata": {
        "id": "Heohcbk3wXVa",
        "colab_type": "code",
        "colab": {}
      },
      "source": [
        "learner = language_model_learner(data_lang_model_format, pretrained=URLs.WT103, arch=AWD_LSTM, drop_mult=0.7)"
      ],
      "execution_count": 0,
      "outputs": []
    },
    {
      "cell_type": "code",
      "metadata": {
        "id": "jjOOvpKJveBC",
        "colab_type": "code",
        "outputId": "04a60f40-0ef3-41ce-fa3c-7feb09e0118e",
        "colab": {
          "base_uri": "https://localhost:8080/",
          "height": 80
        }
      },
      "source": [
        "# train the model with learning rate = 1e-2\n",
        "learner.fit_one_cycle(1, 1e-2)"
      ],
      "execution_count": 0,
      "outputs": [
        {
          "output_type": "display_data",
          "data": {
            "text/html": [
              "<table border=\"1\" class=\"dataframe\">\n",
              "  <thead>\n",
              "    <tr style=\"text-align: left;\">\n",
              "      <th>epoch</th>\n",
              "      <th>train_loss</th>\n",
              "      <th>valid_loss</th>\n",
              "      <th>accuracy</th>\n",
              "      <th>time</th>\n",
              "    </tr>\n",
              "  </thead>\n",
              "  <tbody>\n",
              "    <tr>\n",
              "      <td>0</td>\n",
              "      <td>6.567193</td>\n",
              "      <td>5.181221</td>\n",
              "      <td>0.273583</td>\n",
              "      <td>00:11</td>\n",
              "    </tr>\n",
              "  </tbody>\n",
              "</table>"
            ],
            "text/plain": [
              "<IPython.core.display.HTML object>"
            ]
          },
          "metadata": {
            "tags": []
          }
        }
      ]
    },
    {
      "cell_type": "code",
      "metadata": {
        "id": "RRcBj_BCxanK",
        "colab_type": "code",
        "colab": {}
      },
      "source": [
        "#save this encoder to use it for classification later.\n",
        "learner.save_encoder(\"ft_enc\")"
      ],
      "execution_count": 0,
      "outputs": []
    },
    {
      "cell_type": "code",
      "metadata": {
        "id": "4dmAhsAExxeL",
        "colab_type": "code",
        "colab": {}
      },
      "source": [
        "# using `data_class` object to build classifier with our fine-tuned encoder\n",
        "learner = text_classifier_learner(data_class, arch=AWD_LSTM,drop_mult=0.7)"
      ],
      "execution_count": 0,
      "outputs": []
    },
    {
      "cell_type": "code",
      "metadata": {
        "id": "yXhGpkNox8bM",
        "colab_type": "code",
        "outputId": "eb840f21-dada-4106-b472-f0c8f2c67e78",
        "colab": {
          "base_uri": "https://localhost:8080/",
          "height": 80
        }
      },
      "source": [
        "# again try fitting model\n",
        "learner.fit_one_cycle(1, 1e-2)"
      ],
      "execution_count": 0,
      "outputs": [
        {
          "output_type": "display_data",
          "data": {
            "text/html": [
              "<table border=\"1\" class=\"dataframe\">\n",
              "  <thead>\n",
              "    <tr style=\"text-align: left;\">\n",
              "      <th>epoch</th>\n",
              "      <th>train_loss</th>\n",
              "      <th>valid_loss</th>\n",
              "      <th>accuracy</th>\n",
              "      <th>time</th>\n",
              "    </tr>\n",
              "  </thead>\n",
              "  <tbody>\n",
              "    <tr>\n",
              "      <td>0</td>\n",
              "      <td>0.724033</td>\n",
              "      <td>0.696688</td>\n",
              "      <td>0.500000</td>\n",
              "      <td>00:34</td>\n",
              "    </tr>\n",
              "  </tbody>\n",
              "</table>"
            ],
            "text/plain": [
              "<IPython.core.display.HTML object>"
            ]
          },
          "metadata": {
            "tags": []
          }
        }
      ]
    }
  ]
}